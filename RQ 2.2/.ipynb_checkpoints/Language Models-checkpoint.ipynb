{
 "cells": [
  {
   "cell_type": "markdown",
   "metadata": {},
   "source": [
    "# Language Models"
   ]
  },
  {
   "cell_type": "code",
   "execution_count": null,
   "metadata": {},
   "outputs": [],
   "source": [
    "from sklearn.svm import SVC\n",
    "from xgboost import XGBClassifier\n",
    "from sklearn.linear_model import SGDClassifier\n",
    "from sklearn.naive_bayes import MultinomialNB\n",
    "from sklearn.utils import class_weight\n",
    "from sklearn.model_selection import RandomizedSearchCV,StratifiedKFold\n",
    "from sklearn.dummy import DummyClassifier\n",
    "import pickle\n",
    "\n",
    "\n",
    "params = {\n",
    "        'min_child_weight': [1, 5, 10],\n",
    "        'gamma': [0.5, 1, 1.5, 2, 5],\n",
    "        'subsample': [0.6, 0.8, 1.0],\n",
    "        'colsample_bytree': [0.6, 0.8, 1.0],\n",
    "        'max_depth': [3, 4, 5]\n",
    "        }\n",
    "\n",
    "\n",
    "\n"
   ]
  },
  {
   "cell_type": "code",
   "execution_count": 3,
   "metadata": {},
   "outputs": [
    {
     "ename": "SyntaxError",
     "evalue": "invalid syntax (<ipython-input-3-97cba5a7acfb>, line 13)",
     "output_type": "error",
     "traceback": [
      "\u001b[1;36m  File \u001b[1;32m\"<ipython-input-3-97cba5a7acfb>\"\u001b[1;36m, line \u001b[1;32m13\u001b[0m\n\u001b[1;33m    print(\"Model-\",mdl,\"Folds:\"fld)\u001b[0m\n\u001b[1;37m                                 ^\u001b[0m\n\u001b[1;31mSyntaxError\u001b[0m\u001b[1;31m:\u001b[0m invalid syntax\n"
     ]
    }
   ],
   "source": [
    "models=[\"distill\",\"xlm\",\"xlnet\",\"xlmroberta\",\"albert\"]\n",
    "folds=[\"fold1\",\"fold2\"]\n",
    "\n",
    "for mdl in models:\n",
    "    for fld in folds:\n",
    "        xtrain=pickle.load(open(mdl+\"/\"+fld+\"/\"+\"xtrain.pkl\",'rb'))\n",
    "        xtest=pickle.load(open(mdl+\"/\"+fld+\"/\"+\"xtest.pkl\",'rb'))\n",
    "        ytrain=pickle.load(open(mdl+\"/\"+fld+\"/\"+\"ytrain.pkl\",'rb'))\n",
    "        ytest=pickle.load(open(mdl+\"/\"+fld+\"/\"+\"ytest.pkl\",'rb'))\n",
    "        \n",
    "\n",
    "        print(\"------------------------------------------\")\n",
    "        print(\"Model-\",mdl,\"Folds:\",fld)\n",
    "        print(\"------------------------------------------\")\n",
    "\n",
    "        class_weights = list(class_weight.compute_class_weight('balanced',np.unique(ytrain),np.array(ytrain)))\n",
    "        w_array = np.ones(ytrain.shape[0], dtype = 'float')\n",
    "\n",
    "        for i, val in enumerate(ytrain):\n",
    "            w_array[i] = class_weights[val-1]\n",
    "\n",
    "        clf= SGDClassifier(loss='hinge', penalty='l2',alpha=1e-3, max_iter=100, random_state=42,class_weight=\"balanced\",warm_start=True)\n",
    "        clf2=XGBClassifier(n_estimators=200,random_state=10,max_depth=3,learning_rate =0.1)\n",
    "\n",
    "        clf.fit(np.array(xtrain),np.array(ytrain).astype(np.int32))\n",
    "        clf2.fit(np.array(xtrain),np.array(ytrain).astype(np.int32))\n",
    "\n",
    "        ypred=clf.predict(xtest)\n",
    "        ypred2=clf2.predict(xtest)\n",
    "\n",
    "        from sklearn.metrics import classification_report\n",
    "\n",
    "        print(\"------------SVM----------------------------------------------\")\n",
    "        print(classification_report(np.array(ytest).ravel(),ypred,digits=5))\n",
    "\n",
    "\n",
    "        print(\"------------XGB----------------------------------------------\")\n",
    "        print(classification_report(np.array(ytest).ravel(),ypred2,digits=5))\n"
   ]
  },
  {
   "cell_type": "code",
   "execution_count": null,
   "metadata": {},
   "outputs": [],
   "source": []
  }
 ],
 "metadata": {
  "kernelspec": {
   "display_name": "Python 3",
   "language": "python",
   "name": "python3"
  },
  "language_info": {
   "codemirror_mode": {
    "name": "ipython",
    "version": 3
   },
   "file_extension": ".py",
   "mimetype": "text/x-python",
   "name": "python",
   "nbconvert_exporter": "python",
   "pygments_lexer": "ipython3",
   "version": "3.7.4"
  }
 },
 "nbformat": 4,
 "nbformat_minor": 4
}
