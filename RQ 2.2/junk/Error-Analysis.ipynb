{
 "cells": [
  {
   "cell_type": "code",
   "execution_count": 5,
   "metadata": {
    "collapsed": true
   },
   "outputs": [],
   "source": [
    "%matplotlib inline \n",
    "from sklearn.naive_bayes import MultinomialNB\n",
    "from sklearn.feature_extraction.text import CountVectorizer\n",
    "import pandas as pd\n",
    "import numpy as np\n",
    "from sklearn.pipeline import Pipeline\n",
    "from sklearn.linear_model import SGDClassifier\n",
    "from sklearn.model_selection import LeaveOneOut\n",
    "from sklearn.model_selection import StratifiedKFold\n",
    "from sklearn.feature_extraction.text import TfidfTransformer\n",
    "from sklearn.metrics import classification_report\n",
    "from xgboost import XGBClassifier"
   ]
  },
  {
   "cell_type": "markdown",
   "metadata": {},
   "source": [
    "# Classification Fold 1"
   ]
  },
  {
   "cell_type": "code",
   "execution_count": 9,
   "metadata": {},
   "outputs": [
    {
     "name": "stdout",
     "output_type": "stream",
     "text": [
      "              precision    recall  f1-score   support\n",
      "\n",
      "           1    0.70000   0.36207   0.47727        58\n",
      "           2    0.61268   0.96667   0.75000        90\n",
      "           3    0.50000   0.08333   0.14286        12\n",
      "           4    0.50000   0.20833   0.29412        24\n",
      "\n",
      "    accuracy                        0.61957       184\n",
      "   macro avg    0.57817   0.40510   0.41606       184\n",
      "weighted avg    0.61816   0.61957   0.56497       184\n",
      "\n"
     ]
    }
   ],
   "source": [
    "from sklearn.dummy import DummyClassifier\n",
    "traindata=pd.read_csv(\"./test1.tsv\",delimiter=\"\\t\")\n",
    "X_test=traindata.text.values\n",
    "Y_test=np.array(traindata.label.values).astype(np.int32)\n",
    "\n",
    "traindata=pd.read_csv(\"./train1.tsv\",delimiter=\"\\t\")\n",
    "X_train=traindata.text.values\n",
    "Y_train=np.array(traindata.label.values).astype(np.int32)\n",
    "clf = Pipeline([('vect', CountVectorizer(ngram_range=(1,2))), ('tfidf', TfidfTransformer(use_idf=True)),\n",
    "                         ('clf', SGDClassifier(loss='log', penalty='l2',alpha=0.001, max_iter=100, random_state=42,class_weight=\"balanced\",warm_start=True))])\n",
    "\n",
    "\n",
    "\n",
    "clf.fit(X_train,Y_train)\n",
    "ypred=clf.predict(X_test)\n",
    "\n",
    "print(classification_report(Y_test,ypred,digits=5))\n",
    "\n"
   ]
  },
  {
   "cell_type": "markdown",
   "metadata": {},
   "source": [
    "# Classification Fold 2"
   ]
  },
  {
   "cell_type": "code",
   "execution_count": 10,
   "metadata": {},
   "outputs": [
    {
     "name": "stdout",
     "output_type": "stream",
     "text": [
      "              precision    recall  f1-score   support\n",
      "\n",
      "           1    0.58537   0.42857   0.49485        56\n",
      "           2    0.59677   0.82222   0.69159        90\n",
      "           3    0.00000   0.00000   0.00000        15\n",
      "           4    0.31579   0.26087   0.28571        23\n",
      "\n",
      "    accuracy                        0.56522       184\n",
      "   macro avg    0.37448   0.37792   0.36804       184\n",
      "weighted avg    0.50953   0.56522   0.52460       184\n",
      "\n",
      "Counter({2: 90, 1: 56, 4: 23, 3: 15})\n",
      "Counter({2: 140, 1: 71, 4: 43, 3: 22})\n"
     ]
    },
    {
     "name": "stderr",
     "output_type": "stream",
     "text": [
      "C:\\Users\\MANIKANDAN\\Anaconda2\\envs\\dl-env\\lib\\site-packages\\sklearn\\metrics\\_classification.py:1268: UndefinedMetricWarning: Precision and F-score are ill-defined and being set to 0.0 in labels with no predicted samples. Use `zero_division` parameter to control this behavior.\n",
      "  _warn_prf(average, modifier, msg_start, len(result))\n"
     ]
    }
   ],
   "source": [
    "traindata=pd.read_csv(\"./train2.tsv\",delimiter=\"\\t\")\n",
    "X_train=traindata.text.values\n",
    "Y_train=np.array(traindata.label.values).astype(np.int32)\n",
    "\n",
    "traindata=pd.read_csv(\"./test2.tsv\",delimiter=\"\\t\")\n",
    "X_test=traindata.text.values\n",
    "Y_test=np.array(traindata.label.values).astype(np.int32)\n",
    "\n",
    "clf2 = Pipeline([('vect', CountVectorizer(ngram_range=(1,2))), ('tfidf', TfidfTransformer(use_idf=True)),\n",
    "                         ('clf', SGDClassifier(loss='log', penalty='l2',alpha=0.001, max_iter=100, random_state=42,class_weight=\"balanced\",warm_start=True))])\n",
    "\n",
    "clf2.fit(X_train,Y_train)\n",
    "ypred=clf2.predict(X_test)\n",
    "\n",
    "print(classification_report(Y_test,ypred,digits=5))\n",
    "\n",
    "\n",
    "from collections import Counter\n",
    "print(Counter(Y_test))\n",
    "print(Counter(Y_train))\n"
   ]
  },
  {
   "cell_type": "markdown",
   "metadata": {},
   "source": [
    "# Error Analysis"
   ]
  },
  {
   "cell_type": "code",
   "execution_count": 11,
   "metadata": {},
   "outputs": [
    {
     "name": "stderr",
     "output_type": "stream",
     "text": [
      "C:\\Users\\MANIKANDAN\\Anaconda2\\envs\\dl-env\\lib\\site-packages\\sklearn\\utils\\deprecation.py:144: FutureWarning: The sklearn.metrics.scorer module is  deprecated in version 0.22 and will be removed in version 0.24. The corresponding classes / functions should instead be imported from sklearn.metrics. Anything that cannot be imported from sklearn.metrics is now part of the private API.\n",
      "  warnings.warn(message, FutureWarning)\n",
      "C:\\Users\\MANIKANDAN\\Anaconda2\\envs\\dl-env\\lib\\site-packages\\sklearn\\utils\\deprecation.py:144: FutureWarning: The sklearn.feature_selection.base module is  deprecated in version 0.22 and will be removed in version 0.24. The corresponding classes / functions should instead be imported from sklearn.feature_selection. Anything that cannot be imported from sklearn.feature_selection is now part of the private API.\n",
      "  warnings.warn(message, FutureWarning)\n",
      "Using TensorFlow backend.\n"
     ]
    }
   ],
   "source": [
    "import eli5\n",
    "from eli5.lime import TextExplainer\n",
    "\n"
   ]
  },
  {
   "cell_type": "code",
   "execution_count": 17,
   "metadata": {},
   "outputs": [],
   "source": [
    "import pickle\n",
    "import eli5\n",
    "from eli5.lime import TextExplainer\n",
    "from xgboost import XGBClassifier\n",
    "\n",
    "\n",
    "#BERT FEATURES FOLD 1\n",
    "bertf1_xtrain=pickle.load(open('./bert_features/fold1/xtrain.pkl', 'rb'))\n",
    "bertf1_xtest=pickle.load(open('./bert_features/fold1/xtest.pkl', 'rb'))\n",
    "\n",
    "bertf1_ytrain=pickle.load(open('./bert_features/fold1/ytrain.pkl', 'rb'))\n",
    "bertf1_ytest=pickle.load(open('./bert_features/fold1/ytest.pkl', 'rb'))\n",
    "\n",
    "#BERT FEATURES FOLD 2\n",
    "bertf2_xtrain=pickle.load(open('./bert_features/fold2/xtrain.pkl', 'rb'))\n",
    "bertf2_xtest=pickle.load(open('./bert_features/fold2/xtest.pkl', 'rb'))\n",
    "\n",
    "bertf2_ytrain=pickle.load(open('./bert_features/fold2/ytrain.pkl', 'rb'))\n",
    "bertf2_ytest=pickle.load(open('./bert_features/fold2/ytest.pkl', 'rb'))\n",
    "\n",
    "\n",
    "\n",
    "#ROBERT FEATURES FOLD 1\n",
    "robertf1_xtrain=pickle.load(open('./robert_features/fold1/xtrain.pkl', 'rb'))\n",
    "robertf1_xtest=pickle.load(open('./robert_features/fold1/xtest.pkl', 'rb'))\n",
    "\n",
    "robertf1_ytrain=pickle.load(open('./robert_features/fold1/ytrain.pkl', 'rb'))\n",
    "robertf1_ytest=pickle.load(open('./robert_features/fold1/ytest.pkl', 'rb'))\n",
    "\n",
    "#ROBERT FEATURES FOLD 2\n",
    "robertf2_xtrain=pickle.load(open('./robert_features/fold2/xtrain.pkl', 'rb'))\n",
    "robertf2_xtest=pickle.load(open('./robert_features/fold2/xtest.pkl', 'rb'))\n",
    "\n",
    "robertf2_ytrain=pickle.load(open('./robert_features/fold2/ytrain.pkl', 'rb'))\n",
    "robertf2_ytest=pickle.load(open('./robert_features/fold2/ytest.pkl', 'rb'))"
   ]
  },
  {
   "cell_type": "code",
   "execution_count": 36,
   "metadata": {
    "collapsed": true
   },
   "outputs": [],
   "source": [
    "clf_SVM=SGDClassifier(loss='hinge', penalty='l2',alpha=0.001, max_iter=200, random_state=42,class_weight=\"balanced\",warm_start=True)\n",
    "clf_XGB=XGBClassifier()"
   ]
  },
  {
   "cell_type": "code",
   "execution_count": 40,
   "metadata": {},
   "outputs": [
    {
     "name": "stdout",
     "output_type": "stream",
     "text": [
      "              precision    recall  f1-score   support\n",
      "\n",
      "           0    0.66038   0.62500   0.64220        56\n",
      "           1    0.75610   0.68889   0.72093        90\n",
      "           2    0.33333   0.13333   0.19048        15\n",
      "           3    0.30233   0.56522   0.39394        23\n",
      "\n",
      "    accuracy                        0.60870       184\n",
      "   macro avg    0.51303   0.50311   0.48689       184\n",
      "weighted avg    0.63578   0.60870   0.61285       184\n",
      "\n"
     ]
    }
   ],
   "source": [
    "clf_SVM.fit(bertf2_xtrain,bertf2_ytrain)\n",
    "bertf2_ypred=clf_SVM.predict(bertf2_xtest)\n",
    "print(classification_report(bertf2_ytest,bertf2_ypred,digits=5))"
   ]
  },
  {
   "cell_type": "code",
   "execution_count": 42,
   "metadata": {},
   "outputs": [],
   "source": [
    "from sklearn.metrics import plot_confusion_matrix"
   ]
  },
  {
   "cell_type": "code",
   "execution_count": 44,
   "metadata": {},
   "outputs": [
    {
     "data": {
      "text/plain": [
       "<sklearn.metrics._plot.confusion_matrix.ConfusionMatrixDisplay at 0x16c1be2f6a0>"
      ]
     },
     "execution_count": 44,
     "metadata": {},
     "output_type": "execute_result"
    },
    {
     "data": {
      "image/png": "[encoded data removed]",
      "text/plain": [
       "<Figure size 432x288 with 2 Axes>"
      ]
     },
     "metadata": {
      "needs_background": "light"
     },
     "output_type": "display_data"
    }
   ],
   "source": [
    "plot_confusion_matrix(clf_SVM,bertf2_xtest,bertf2_ytest,display_labels=[\"Task\",\"Findings\",\"Reason\",\"Intuition\"])"
   ]
  },
  {
   "cell_type": "code",
   "execution_count": 48,
   "metadata": {},
   "outputs": [
    {
     "name": "stdout",
     "output_type": "stream",
     "text": [
      "1\n",
      "2\n",
      "4\n",
      "6\n",
      "8\n",
      "13\n",
      "14\n",
      "15\n",
      "21\n",
      "23\n",
      "25\n",
      "33\n",
      "37\n",
      "44\n",
      "46\n",
      "47\n",
      "49\n",
      "52\n",
      "53\n",
      "55\n",
      "57\n",
      "62\n",
      "64\n",
      "66\n",
      "70\n",
      "71\n",
      "76\n",
      "78\n",
      "79\n",
      "80\n",
      "84\n",
      "88\n",
      "96\n",
      "97\n",
      "100\n",
      "102\n",
      "103\n",
      "104\n",
      "106\n",
      "114\n",
      "115\n",
      "121\n",
      "125\n",
      "129\n",
      "133\n",
      "135\n",
      "136\n",
      "137\n",
      "138\n",
      "143\n",
      "145\n",
      "147\n",
      "149\n",
      "156\n",
      "157\n",
      "165\n",
      "167\n",
      "168\n",
      "170\n",
      "174\n",
      "175\n",
      "177\n",
      "179\n",
      "182\n"
     ]
    }
   ],
   "source": [
    "for index,(i, j) in enumerate(zip(bertf2_ytest,bertf2_ytrain)):\n",
    "    if i==j:\n",
    "        print(index)\n"
   ]
  },
  {
   "cell_type": "code",
   "execution_count": null,
   "metadata": {
    "collapsed": true
   },
   "outputs": [],
   "source": []
  }
 ],
 "metadata": {
  "kernelspec": {
   "display_name": "Python 3",
   "language": "python",
   "name": "python3"
  },
  "language_info": {
   "codemirror_mode": {
    "name": "ipython",
    "version": 3
   },
   "file_extension": ".py",
   "mimetype": "text/x-python",
   "name": "python",
   "nbconvert_exporter": "python",
   "pygments_lexer": "ipython3",
   "version": "3.6.7"
  }
 },
 "nbformat": 4,
 "nbformat_minor": 2
}
