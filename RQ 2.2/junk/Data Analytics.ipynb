{
 "cells": [
  {
   "cell_type": "code",
   "execution_count": 1,
   "metadata": {},
   "outputs": [],
   "source": [
    "import pandas as pd\n",
    "import matplotlib.pyplot as plt\n",
    "from collections import Counter\n",
    "import spacy\n",
    "nlp = spacy.load(\"en_core_web_sm\")\n",
    "\n",
    "df=pd.read_csv(\"./data_kbai.tsv\",delimiter=\"\\t\")\n",
    "\n"
   ]
  },
  {
   "cell_type": "code",
   "execution_count": 2,
   "metadata": {},
   "outputs": [
    {
     "data": {
      "text/html": [
       "<div>\n",
       "<style scoped>\n",
       "    .dataframe tbody tr th:only-of-type {\n",
       "        vertical-align: middle;\n",
       "    }\n",
       "\n",
       "    .dataframe tbody tr th {\n",
       "        vertical-align: top;\n",
       "    }\n",
       "\n",
       "    .dataframe thead th {\n",
       "        text-align: right;\n",
       "    }\n",
       "</style>\n",
       "<table border=\"1\" class=\"dataframe\">\n",
       "  <thead>\n",
       "    <tr style=\"text-align: right;\">\n",
       "      <th></th>\n",
       "      <th>text</th>\n",
       "      <th>label</th>\n",
       "      <th>groundtruth</th>\n",
       "    </tr>\n",
       "  </thead>\n",
       "  <tbody>\n",
       "    <tr>\n",
       "      <th>0</th>\n",
       "      <td>My approach to building an agent capable of so...</td>\n",
       "      <td>0</td>\n",
       "      <td>0</td>\n",
       "    </tr>\n",
       "    <tr>\n",
       "      <th>1</th>\n",
       "      <td>As I design each specific algorithm I attempt ...</td>\n",
       "      <td>0</td>\n",
       "      <td>1</td>\n",
       "    </tr>\n",
       "    <tr>\n",
       "      <th>2</th>\n",
       "      <td>The agent used in this project is a direct con...</td>\n",
       "      <td>0</td>\n",
       "      <td>2</td>\n",
       "    </tr>\n",
       "    <tr>\n",
       "      <th>3</th>\n",
       "      <td>This previous agent was able to determine cons...</td>\n",
       "      <td>0</td>\n",
       "      <td>2</td>\n",
       "    </tr>\n",
       "    <tr>\n",
       "      <th>4</th>\n",
       "      <td>These existing capabilities form the majority ...</td>\n",
       "      <td>0</td>\n",
       "      <td>4</td>\n",
       "    </tr>\n",
       "    <tr>\n",
       "      <th>...</th>\n",
       "      <td>...</td>\n",
       "      <td>...</td>\n",
       "      <td>...</td>\n",
       "    </tr>\n",
       "    <tr>\n",
       "      <th>785</th>\n",
       "      <td>A human would never consider combining the thr...</td>\n",
       "      <td>0</td>\n",
       "      <td>2</td>\n",
       "    </tr>\n",
       "    <tr>\n",
       "      <th>786</th>\n",
       "      <td>Also, the count of dark pixels in a row of ima...</td>\n",
       "      <td>0</td>\n",
       "      <td>2</td>\n",
       "    </tr>\n",
       "    <tr>\n",
       "      <th>787</th>\n",
       "      <td>If more time was available, I would have made ...</td>\n",
       "      <td>0</td>\n",
       "      <td>2</td>\n",
       "    </tr>\n",
       "    <tr>\n",
       "      <th>788</th>\n",
       "      <td>I would also assign more specificweights to th...</td>\n",
       "      <td>0</td>\n",
       "      <td>0</td>\n",
       "    </tr>\n",
       "    <tr>\n",
       "      <th>789</th>\n",
       "      <td>The improvements of the agent through all thes...</td>\n",
       "      <td>0</td>\n",
       "      <td>0</td>\n",
       "    </tr>\n",
       "  </tbody>\n",
       "</table>\n",
       "<p>790 rows × 3 columns</p>\n",
       "</div>"
      ],
      "text/plain": [
       "                                                  text  label  groundtruth\n",
       "0    My approach to building an agent capable of so...      0            0\n",
       "1    As I design each specific algorithm I attempt ...      0            1\n",
       "2    The agent used in this project is a direct con...      0            2\n",
       "3    This previous agent was able to determine cons...      0            2\n",
       "4    These existing capabilities form the majority ...      0            4\n",
       "..                                                 ...    ...          ...\n",
       "785  A human would never consider combining the thr...      0            2\n",
       "786  Also, the count of dark pixels in a row of ima...      0            2\n",
       "787  If more time was available, I would have made ...      0            2\n",
       "788  I would also assign more specificweights to th...      0            0\n",
       "789  The improvements of the agent through all thes...      0            0\n",
       "\n",
       "[790 rows x 3 columns]"
      ]
     },
     "execution_count": 2,
     "metadata": {},
     "output_type": "execute_result"
    }
   ],
   "source": [
    "df"
   ]
  },
  {
   "cell_type": "code",
   "execution_count": 3,
   "metadata": {},
   "outputs": [],
   "source": [
    "text=df.text.values\n",
    "labels=df.groundtruth.values"
   ]
  },
  {
   "cell_type": "code",
   "execution_count": 4,
   "metadata": {},
   "outputs": [
    {
     "data": {
      "text/plain": [
       "(100.7886075949367, 64.80218214288418, 487)"
      ]
     },
     "execution_count": 4,
     "metadata": {},
     "output_type": "execute_result"
    }
   ],
   "source": [
    "lens = df.text.str.len()\n",
    "lens.mean(), lens.std(), lens.max()"
   ]
  },
  {
   "cell_type": "code",
   "execution_count": 5,
   "metadata": {},
   "outputs": [
    {
     "data": {
      "image/png": "[encoded data removed]",
      "text/plain": [
       "<Figure size 432x288 with 1 Axes>"
      ]
     },
     "metadata": {
      "needs_background": "light"
     },
     "output_type": "display_data"
    }
   ],
   "source": [
    "lens.hist();"
   ]
  },
  {
   "cell_type": "code",
   "execution_count": 6,
   "metadata": {},
   "outputs": [
    {
     "data": {
      "text/plain": [
       "count    790.000000\n",
       "mean       1.217722\n",
       "std        1.265989\n",
       "min        0.000000\n",
       "25%        0.000000\n",
       "50%        1.000000\n",
       "75%        2.000000\n",
       "max        4.000000\n",
       "Name: groundtruth, dtype: float64"
      ]
     },
     "execution_count": 6,
     "metadata": {},
     "output_type": "execute_result"
    }
   ],
   "source": [
    "df.groundtruth.describe()"
   ]
  },
  {
   "cell_type": "code",
   "execution_count": 16,
   "metadata": {},
   "outputs": [
    {
     "name": "stdout",
     "output_type": "stream",
     "text": [
      "Counter({0: 330, 2: 230, 1: 127, 4: 66, 3: 37})\n"
     ]
    },
    {
     "data": {
      "text/plain": [
       "<BarContainer object of 5 artists>"
      ]
     },
     "execution_count": 16,
     "metadata": {},
     "output_type": "execute_result"
    },
    {
     "data": {
      "image/png": "[encoded data removed]",
      "text/plain": [
       "<Figure size 432x288 with 1 Axes>"
      ]
     },
     "metadata": {
      "needs_background": "light"
     },
     "output_type": "display_data"
    }
   ],
   "source": [
    "w=Counter(df.groundtruth.values)\n",
    "print(w)\n",
    "plt.bar(w.keys(), w.values())"
   ]
  },
  {
   "cell_type": "code",
   "execution_count": 17,
   "metadata": {},
   "outputs": [],
   "source": [
    "def breakandanlyse(inputtext):\n",
    "    tokenizedwords=[]\n",
    "    for doc in inputtext:\n",
    "        words = nlp(doc)\n",
    "        for token in words:\n",
    "    #         print(str(token))\n",
    "            tokenizedwords.append(str(token))\n",
    "    return tokenizedwords\n"
   ]
  },
  {
   "cell_type": "code",
   "execution_count": 18,
   "metadata": {},
   "outputs": [],
   "source": [
    "# Complete Data Analysis"
   ]
  },
  {
   "cell_type": "code",
   "execution_count": 19,
   "metadata": {},
   "outputs": [],
   "source": [
    "allwords = breakandanlyse(text)\n"
   ]
  },
  {
   "cell_type": "code",
   "execution_count": 20,
   "metadata": {},
   "outputs": [],
   "source": [
    "allwordsstats=Counter(allwords)"
   ]
  },
  {
   "cell_type": "code",
   "execution_count": 25,
   "metadata": {},
   "outputs": [],
   "source": [
    "df_save=pd.DataFrame()\n",
    "df_save[\"words\"]=allwordsstats.keys()\n",
    "df_save[\"count\"]=allwordsstats.values()\n",
    "df_save.to_csv(\"all_data_word_stats.csv\",sep=\",\",index=None)"
   ]
  },
  {
   "cell_type": "code",
   "execution_count": null,
   "metadata": {},
   "outputs": [],
   "source": [
    "# Class level analysis"
   ]
  },
  {
   "cell_type": "code",
   "execution_count": 33,
   "metadata": {},
   "outputs": [],
   "source": [
    "df_class0=df[df.groundtruth==0]\n",
    "class0text=df_class0.text\n",
    "allwords = breakandanlyse(text)\n",
    "allwordsstats=Counter(allwords)\n",
    "df_save=pd.DataFrame()\n",
    "df_save[\"words\"]=allwordsstats.keys()\n",
    "df_save[\"count\"]=allwordsstats.values()\n",
    "df_save.to_csv(\"class0_word_stats.csv\",sep=\",\",index=None)"
   ]
  },
  {
   "cell_type": "code",
   "execution_count": 34,
   "metadata": {},
   "outputs": [],
   "source": [
    "df_class0=df[df.groundtruth==1]\n",
    "class0text=df_class0.text\n",
    "allwords = breakandanlyse(text)\n",
    "allwordsstats=Counter(allwords)\n",
    "df_save=pd.DataFrame()\n",
    "df_save[\"words\"]=allwordsstats.keys()\n",
    "df_save[\"count\"]=allwordsstats.values()\n",
    "df_save.to_csv(\"class1_word_stats.csv\",sep=\",\",index=None)"
   ]
  },
  {
   "cell_type": "code",
   "execution_count": 35,
   "metadata": {},
   "outputs": [],
   "source": [
    "df_class0=df[df.groundtruth==2]\n",
    "class0text=df_class0.text\n",
    "allwords = breakandanlyse(text)\n",
    "allwordsstats=Counter(allwords)\n",
    "df_save=pd.DataFrame()\n",
    "df_save[\"words\"]=allwordsstats.keys()\n",
    "df_save[\"count\"]=allwordsstats.values()\n",
    "df_save.to_csv(\"class2_word_stats.csv\",sep=\",\",index=None)"
   ]
  },
  {
   "cell_type": "code",
   "execution_count": 36,
   "metadata": {},
   "outputs": [],
   "source": [
    "df_class0=df[df.groundtruth==3]\n",
    "class0text=df_class0.text\n",
    "allwords = breakandanlyse(text)\n",
    "allwordsstats=Counter(allwords)\n",
    "df_save=pd.DataFrame()\n",
    "df_save[\"words\"]=allwordsstats.keys()\n",
    "df_save[\"count\"]=allwordsstats.values()\n",
    "df_save.to_csv(\"class3_word_stats.csv\",sep=\",\",index=None)"
   ]
  },
  {
   "cell_type": "code",
   "execution_count": null,
   "metadata": {},
   "outputs": [],
   "source": [
    "df_class0=df[df.groundtruth==4]\n",
    "class0text=df_class0.text\n",
    "allwords = breakandanlyse(text)\n",
    "allwordsstats=Counter(allwords)\n",
    "df_save=pd.DataFrame()\n",
    "df_save[\"words\"]=allwordsstats.keys()\n",
    "df_save[\"count\"]=allwordsstats.values()\n",
    "df_save.to_csv(\"class4_word_stats.csv\",sep=\",\",index=None)"
   ]
  },
  {
   "cell_type": "code",
   "execution_count": null,
   "metadata": {},
   "outputs": [],
   "source": []
  }
 ],
 "metadata": {
  "kernelspec": {
   "display_name": "Python 3",
   "language": "python",
   "name": "python3"
  },
  "language_info": {
   "codemirror_mode": {
    "name": "ipython",
    "version": 3
   },
   "file_extension": ".py",
   "mimetype": "text/x-python",
   "name": "python",
   "nbconvert_exporter": "python",
   "pygments_lexer": "ipython3",
   "version": "3.6.7"
  }
 },
 "nbformat": 4,
 "nbformat_minor": 2
}
