{
 "cells": [
  {
   "cell_type": "markdown",
   "metadata": {},
   "source": [
    "# Import Libraries"
   ]
  },
  {
   "cell_type": "code",
   "execution_count": null,
   "metadata": {},
   "outputs": [],
   "source": [
    "%matplotlib inline \n",
    "from sklearn.naive_bayes import MultinomialNB\n",
    "from sklearn.feature_extraction.text import CountVectorizer\n",
    "import pandas as pd\n",
    "import numpy as np\n",
    "from sklearn.pipeline import Pipeline\n",
    "from sklearn.linear_model import SGDClassifier\n",
    "from sklearn.model_selection import LeaveOneOut\n",
    "from sklearn.model_selection import StratifiedKFold\n",
    "from sklearn.feature_extraction.text import TfidfTransformer\n",
    "from sklearn.metrics import classification_report\n",
    "from sklearn.dummy import DummyClassifier"
   ]
  },
  {
   "cell_type": "markdown",
   "metadata": {},
   "source": [
    "# Classification Fold 1"
   ]
  },
  {
   "cell_type": "markdown",
   "metadata": {},
   "source": [
    "* This code runs SVM with TF-IDF model for classification of keyphrases\n",
    "    \n",
    "* The training and testing for each of the phases is seperated.  \n",
    "\n",
    "* This can be modified using line ```traindata=pd.read_csv(\"../data/test1.tsv\",delimiter=\"\\t\")``` and ```traindata=pd.read_csv(\"../data/train1.tsv\",delimiter=\"\\t\")```\n",
    "\n",
    "* Also to run for SVM with Bag of words use ```clf = Pipeline([('vect', CountVectorizer(ngram_range=(1,2))), ('clf', SGDClassifier(loss='log', penalty='l2',alpha=0.001, max_iter=100, random_state=42,class_weight=\"balanced\",warm_start=True))])```\n"
   ]
  },
  {
   "cell_type": "code",
   "execution_count": null,
   "metadata": {},
   "outputs": [],
   "source": [
    "\n",
    "traindata=pd.read_csv(\"../data/tsv/test1.tsv\",delimiter=\"\\t\")\n",
    "X_test=traindata.text.values\n",
    "Y_test=np.array(traindata.label.values).astype(np.int32)\n",
    "\n",
    "traindata=pd.read_csv(\"../data/tsv/train1.tsv\",delimiter=\"\\t\")\n",
    "X_train=traindata.text.values\n",
    "Y_train=np.array(traindata.label.values).astype(np.int32)\n",
    "clf = Pipeline([('vect', CountVectorizer(ngram_range=(1,2))), ('tfidf', TfidfTransformer(use_idf=True)),\n",
    "                         ('clf', SGDClassifier(loss='log', penalty='l2',alpha=0.001, max_iter=100, random_state=42,class_weight=\"balanced\",warm_start=True))])\n",
    "\n",
    "\n",
    "\n",
    "clf.fit(X_train,Y_train)\n",
    "ypred=clf.predict(X_test)\n",
    "\n",
    "print(classification_report(Y_test,ypred,digits=5))\n",
    "\n"
   ]
  },
  {
   "cell_type": "markdown",
   "metadata": {},
   "source": [
    "# Classification Fold 2"
   ]
  },
  {
   "cell_type": "markdown",
   "metadata": {},
   "source": [
    "* This code runs SVM with TF-IDF model for classification of keyphrases\n",
    "    \n",
    "* The training and testing for each of the phases is seperated.  \n",
    "\n",
    "* This can be modified using line ```traindata=pd.read_csv(\"../data/test1.tsv\",delimiter=\"\\t\")``` and ```traindata=pd.read_csv(\"../data/train1.tsv\",delimiter=\"\\t\")```\n",
    "\n",
    "* Also to run for SVM with Bag of words use ```clf = Pipeline([('vect', CountVectorizer(ngram_range=(1,2))), ('clf', SGDClassifier(loss='log', penalty='l2',alpha=0.001, max_iter=100, random_state=42,class_weight=\"balanced\",warm_start=True))])```\n"
   ]
  },
  {
   "cell_type": "code",
   "execution_count": null,
   "metadata": {},
   "outputs": [],
   "source": [
    "traindata=pd.read_csv(\"../data/tsv/train2.tsv\",delimiter=\"\\t\")\n",
    "X_train=traindata.text.values\n",
    "Y_train=np.array(traindata.label.values).astype(np.int32)\n",
    "\n",
    "traindata=pd.read_csv(\"../data/tsv/test2.tsv\",delimiter=\"\\t\")\n",
    "X_test=traindata.text.values\n",
    "Y_test=np.array(traindata.label.values).astype(np.int32)\n",
    "\n",
    "clf2 = Pipeline([('vect', CountVectorizer(ngram_range=(1,2))), ('tfidf', TfidfTransformer(use_idf=True)),\n",
    "                         ('clf', SGDClassifier(loss='log', penalty='l2',alpha=0.001, max_iter=100, random_state=42,class_weight=\"balanced\",warm_start=True))])\n",
    "\n",
    "clf2.fit(X_train,Y_train)\n",
    "ypred=clf2.predict(X_test)\n",
    "\n",
    "print(classification_report(Y_test,ypred,digits=5))\n"
   ]
  },
  {
   "cell_type": "markdown",
   "metadata": {},
   "source": [
    "# Intepretability"
   ]
  },
  {
   "cell_type": "markdown",
   "metadata": {},
   "source": [
    "* This code evaluates previously trained model for interpretability using *eli5* library\n",
    "    \n",
    "* The training and testing for each of the phases can be modified using line ```xtrain=pickle.load(open('../data/summary_pkl/xtrain.pkl', 'rb'))```\n",
    "```xtest=pickle.load(open('../data/summary_pkl/xtest.pkl', 'rb'))```\n",
    "```ytrain=pickle.load(open('../data/summary_pkl/ytrain.pkl', 'rb'))```\n",
    "```ytest=pickle.load(open('../data/summary_pkl/ytest.pkl', 'rb'))```\n",
    "\n",
    "* Following function returns new features for LIME generated texts\n",
    "```\n",
    "def returnfeatures(text):\n",
    "    global xtraindict\n",
    "    res=[]\n",
    "    for i in text:\n",
    "        res.append(xtraindict[i])\n",
    "    return np.array(res)\n",
    "```"
   ]
  },
  {
   "cell_type": "code",
   "execution_count": null,
   "metadata": {},
   "outputs": [],
   "source": [
    "import eli5\n",
    "from eli5.lime import TextExplainer"
   ]
  },
  {
   "cell_type": "code",
   "execution_count": null,
   "metadata": {},
   "outputs": [],
   "source": [
    "import pickle\n",
    "import eli5\n",
    "from eli5.lime import TextExplainer\n",
    "from xgboost import XGBClassifier\n",
    "\n",
    "xtrain=pickle.load(open('../data/summary_pkl/xtrain.pkl', 'rb'))\n",
    "xtest=pickle.load(open('../data/summary_pkl/xtest.pkl', 'rb'))\n",
    "\n",
    "ytrain=pickle.load(open('../data/summary_pkl/ytrain.pkl', 'rb'))\n",
    "ytest=pickle.load(open('../data/summary_pkl/ytest.pkl', 'rb'))\n",
    "\n",
    "\n",
    "traindata=pd.read_csv(\"../data/tsv/test2.tsv\",delimiter=\"\\t\")\n",
    "X_test=traindata.text.values\n",
    "Y_test=np.array(traindata.label.values).astype(np.int32)\n",
    "\n",
    "traindata=pd.read_csv(\"../data/tsv/train2.tsv\",delimiter=\"\\t\")\n",
    "X_train=traindata.text.values\n",
    "Y_train=np.array(traindata.label.values).astype(np.int32)\n",
    "\n",
    "\n",
    "xtraindict={}\n",
    "\n",
    "\n",
    "for i,j in zip(X_train,xtrain):\n",
    "    xtraindict[i]=j\n",
    "\n",
    "for i,j in zip(X_test,xtest):\n",
    "    xtraindict[i]=j\n",
    "\n",
    "def returnfeatures(text):\n",
    "    global xtraindict\n",
    "    res=[]\n",
    "    for i in text:\n",
    "        res.append(xtraindict[i])\n",
    "    return np.array(res)\n",
    "\n",
    "\n",
    "clf11 = SGDClassifier(loss='log', penalty='l2',alpha=1e-3, max_iter=200, random_state=42,class_weight=\"balanced\",warm_start=True)  #Pipeline([('custom', FunctionTransformer(returnfeatures)),('clf', SGDClassifier(loss='log', penalty='l2',alpha=1e-3, max_iter=200, random_state=42,class_weight=\"balanced\",warm_start=True))])\n",
    "clf11.fit(np.array(xtrain),np.array(ytrain))\n",
    "ypred=clf11.predict(xtest)\n",
    "print(classification_report(ytest,ypred,digits=5))\n",
    "\n",
    "\n",
    "clf12=XGBClassifier(n_estimators=200,random_state=10,max_depth=3,learning_rate =0.1)\n",
    "clf12.fit(np.array(xtrain),np.array(ytrain))\n",
    "ypred=clf12.predict(xtest)\n",
    "print(classification_report(ytest,ypred,digits=5))\n",
    "\n"
   ]
  },
  {
   "cell_type": "markdown",
   "metadata": {},
   "source": [
    "# Display Interpretablity Results"
   ]
  },
  {
   "cell_type": "markdown",
   "metadata": {},
   "source": [
    "* Change testfile in ``` traindata=pd.read_csv(\"../data/tsv/test2.tsv\",delimiter=\"\\t\")```"
   ]
  },
  {
   "cell_type": "code",
   "execution_count": null,
   "metadata": {},
   "outputs": [],
   "source": [
    "from IPython.display import display\n",
    "te = TextExplainer(random_state=42)\n",
    "\n",
    "#Change file names here\n",
    "traindata=pd.read_csv(\"../data/tsv/test2.tsv\",delimiter=\"\\t\")\n",
    "X_test=traindata.text.values\n",
    "Y_test=np.array(traindata.label.values).astype(np.int32)\n",
    "\n",
    "X_test=np.array(X_test)\n",
    "for i in range(len(X_test)):\n",
    "    print(X_test[i])\n",
    "    te.fit(X_test[i], clf11.predict_proba)\n",
    "    a=te.show_prediction(target_names=[1,2,3,4])\n",
    "    display(a)"
   ]
  }
 ],
 "metadata": {
  "kernelspec": {
   "display_name": "Python 3",
   "language": "python",
   "name": "python3"
  },
  "language_info": {
   "codemirror_mode": {
    "name": "ipython",
    "version": 3
   },
   "file_extension": ".py",
   "mimetype": "text/x-python",
   "name": "python",
   "nbconvert_exporter": "python",
   "pygments_lexer": "ipython3",
   "version": "3.7.4"
  }
 },
 "nbformat": 4,
 "nbformat_minor": 2
}
